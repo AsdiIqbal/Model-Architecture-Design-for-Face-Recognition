{
 "cells": [
  {
   "cell_type": "markdown",
   "metadata": {
    "id": "BbMrcQiqVT1P"
   },
   "source": [
    "## **IMPORTING LIBRARIES**"
   ]
  },
  {
   "cell_type": "code",
   "execution_count": null,
   "metadata": {
    "id": "6LMI31TRUsIC"
   },
   "outputs": [],
   "source": [
    "import tensorflow as tf\n",
    "import keras\n",
    "from keras import Sequential,layers\n",
    "from keras.layers import InputLayer, Dense, Conv2D, MaxPooling2D, Dropout , Flatten,Activation, AveragePooling2D, MaxPool2D\n",
    "from keras.optimizers import Adam\n",
    "import numpy as np\n",
    "from PIL import Image\n",
    "import matplotlib.pyplot as plt\n",
    "from keras.utils import to_categorical\n",
    "!pip install keras_tuner -q\n",
    "import keras_tuner as kt\n",
    "import os\n",
    "from sklearn.model_selection import train_test_split\n",
    "from google.colab import drive"
   ]
  },
  {
   "cell_type": "markdown",
   "metadata": {
    "id": "CW8-ZmkjeHWz"
   },
   "source": [
    "## **DATASET AQUISITION**\n",
    "(From Google Drive)"
   ]
  },
  {
   "cell_type": "code",
   "execution_count": null,
   "metadata": {
    "colab": {
     "base_uri": "https://localhost:8080/"
    },
    "id": "IKcDnAMdEugO",
    "outputId": "3cf34226-b521-4186-cfa5-cfbe834a8f46"
   },
   "outputs": [
    {
     "name": "stdout",
     "output_type": "stream",
     "text": [
      "Drive already mounted at /content/drive; to attempt to forcibly remount, call drive.mount(\"/content/drive\", force_remount=True).\n"
     ]
    }
   ],
   "source": [
    "drive.mount('/content/drive')\n",
    "Classes=['Ali', 'Asad', 'Dawood Imtiaz', 'Distayy', 'Haseeb', 'Shaheer', 'SHAHWAR', 'Ume Habiba', 'Usman Tariq', 'Yusra']\n",
    "Class_Length=len(Classes)"
   ]
  },
  {
   "cell_type": "markdown",
   "metadata": {
    "id": "vJwX-qGXeiDu"
   },
   "source": [
    "## **DATASET RESIZING**\n",
    "(According of Respective Architectures)\n",
    "This Function is need to be updated according to run on local PC.\n",
    "This Function here is for Google colab linked to google drive."
   ]
  },
  {
   "cell_type": "code",
   "execution_count": null,
   "metadata": {
    "id": "EkazQhYCfZ9f"
   },
   "outputs": [],
   "source": [
    "def data_resize(image_height,image_width, channel):\n",
    "  objects=['Ali', 'Asad', 'Dawood Imtiaz', 'Distayy', 'Haseeb', 'Shaheer', 'SHAHWAR', 'Ume Habiba', 'Usman Tariq', 'Yusra']\n",
    "  num_images=500\n",
    "  num_objects=10\n",
    "  images = np.zeros((num_images, image_width, image_height, channel), dtype=np.uint8)\n",
    "  labels = np.zeros((num_images, ), dtype=np.uint8)\n",
    "  i=0\n",
    "  for obj in range(num_objects):\n",
    "    j=0\n",
    "    obj_dir = f\"/content/drive/MyDrive/dataset/{objects[obj]}\"\n",
    "    for filename in os.listdir(obj_dir):\n",
    "      img = Image.open(os.path.join(obj_dir, filename))\n",
    "      img = img.resize((image_width, image_height))\n",
    "      images[i*50 + j] = np.array(img)\n",
    "      labels[i*50 + j] = i\n",
    "      j+=1\n",
    "    i+=1\n",
    "  return images,labels\n"
   ]
  },
  {
   "cell_type": "markdown",
   "metadata": {
    "id": "ZCY9-mdMe4RZ"
   },
   "source": [
    "# **ALEXNET**\n",
    "(227x227x3)\n",
    "\n",
    "(IMPLEMENTATION / PERFORMANCE ANALYSIS)"
   ]
  },
  {
   "cell_type": "code",
   "execution_count": null,
   "metadata": {
    "id": "OoZWJ73joxPZ"
   },
   "outputs": [],
   "source": [
    "Alex_Images, Alex_Label = data_resize(227,227,3)\n",
    "Alex_X_Train, Alex_X_Test, Alex_Y_Train, Alex_Y_Test =  train_test_split(Alex_Images,Alex_Label,test_size=0.2,random_state=1)"
   ]
  },
  {
   "cell_type": "code",
   "execution_count": null,
   "metadata": {
    "id": "V4i_LmUZQNWU"
   },
   "outputs": [],
   "source": [
    "Alex_X_Train=Alex_X_Train.astype('float32')/255.0\n",
    "Alex_X_Test=Alex_X_Test.astype('float32')/255.0\n"
   ]
  },
  {
   "cell_type": "code",
   "execution_count": null,
   "metadata": {
    "colab": {
     "base_uri": "https://localhost:8080/"
    },
    "id": "lz6iyfnCQ6v1",
    "outputId": "e4396848-82c0-44f4-926c-74bb030e18ff"
   },
   "outputs": [
    {
     "name": "stdout",
     "output_type": "stream",
     "text": [
      "(400, 10)\n"
     ]
    }
   ],
   "source": [
    "Alex_Y_Train=to_categorical(Alex_Y_Train,Class_Length)\n",
    "Alex_Y_Test=to_categorical(Alex_Y_Test,Class_Length)\n",
    "print(Alex_Y_Train.shape)"
   ]
  },
  {
   "cell_type": "code",
   "execution_count": null,
   "metadata": {
    "id": "8pyEuTd7UBmM"
   },
   "outputs": [],
   "source": [
    "model = Sequential()\n",
    "model.add(Conv2D(filters=96, input_shape=(227,227,3), kernel_size=(11,11), strides=(4,4), padding='valid',activation='relu',name='Conv_1'))\n",
    "model.add(MaxPooling2D(pool_size=(3,3), strides=(2,2), padding='valid',name='MaxPool2D_1'))\n",
    "model.add(Conv2D(filters=256, kernel_size=(11,11), strides=(1,1), padding='valid',activation='relu',name='Conv_2'))\n",
    "model.add(MaxPooling2D(pool_size=(3,3), strides=(2,2), padding='valid',name='MaxPool2D_2'))\n",
    "model.add(Conv2D(filters=384, kernel_size=(3,3), strides=(1,1), padding='valid',activation='relu',name='Conv_3'))\n",
    "model.add(Conv2D(filters=384, kernel_size=(3,3), strides=(1,1), padding='valid',activation='relu',name='Conv_4'))\n",
    "model.add(Conv2D(filters=256, kernel_size=(3,3), strides=(1,1), padding='valid',activation='relu',name='Conv_5'))\n",
    "model.add(MaxPooling2D(pool_size=(2,2), strides=(2,2), padding='valid',name='MaxPool2D_3'))\n",
    "model.add(Flatten())\n",
    "model.add(Dense(9216, input_shape=(150*150*3,),activation='relu',name='FC_Layer1'))\n",
    "model.add(Dropout(0.4))\n",
    "model.add(Dense(4096,activation='relu',name='FC_Layer2'))\n",
    "model.add(Dropout(0.4))\n",
    "model.add(Dense(4096,activation='relu',name='FC_Layer3'))\n",
    "model.add(Dropout(0.4))\n",
    "model.add(Dense(1000,activation='relu',name='Out_Layer'))\n",
    "model.add(Dense(10,activation='softmax',name='Out_Layer_2'))\n",
    "model.compile(optimizer=keras.optimizers.Adam(learning_rate=0.0001),loss=keras.losses.categorical_crossentropy, metrics=['accuracy'])\n",
    "model.summary()"
   ]
  },
  {
   "cell_type": "code",
   "execution_count": null,
   "metadata": {
    "id": "u_TviF6D0jo1"
   },
   "outputs": [],
   "source": [
    "model.fit(Alex_X_Train,Alex_Y_Train,validation_split=0.2,epochs=10,shuffle=True)"
   ]
  },
  {
   "cell_type": "code",
   "execution_count": null,
   "metadata": {
    "id": "qNz84vVL6F1K"
   },
   "outputs": [],
   "source": [
    "a,b=model.evaluate(Alex_X_Test,Alex_Y_Test)\n",
    "print(f'LOSS : {a}\\nACCURACY : {b}')"
   ]
  },
  {
   "cell_type": "code",
   "execution_count": null,
   "metadata": {
    "id": "PxSeRNf1EPS6"
   },
   "outputs": [],
   "source": [
    "y_pred=model.predict(Alex_X_Test)\n",
    "plt.figure(figsize=(35,35))\n",
    "for i in range(100):\n",
    "  plt.subplot(10,10,i+1)\n",
    "  plt.imshow(Alex_X_Test[i])\n",
    "  plt.title(Classes[np.argmax(y_pred[i])])\n",
    "  plt.xticks([])\n",
    "  plt.yticks([])"
   ]
  },
  {
   "cell_type": "markdown",
   "metadata": {
    "id": "fmKXfKLOfiJ3"
   },
   "source": [
    "# **LENET-5**\n",
    "(32x32x1)\n",
    "\n",
    "(IMPLEMENTATION / PERFORMANCE ANALYSIS)"
   ]
  },
  {
   "cell_type": "code",
   "execution_count": null,
   "metadata": {
    "id": "0u9YlivYfmlh"
   },
   "outputs": [],
   "source": [
    "Lenet_Images, Lenet_Label = data_resize(32,32,3)\n",
    "Lenet_X_Train, Lenet_X_Test, Lenet_Y_Train, Lenet_Y_Test =  train_test_split(Lenet_Images,Lenet_Label,test_size=0.2,random_state=1)\n"
   ]
  },
  {
   "cell_type": "code",
   "execution_count": null,
   "metadata": {
    "id": "ZF2TqyyfRczE"
   },
   "outputs": [],
   "source": [
    "Lenet_X_Train1=Lenet_X_Train.astype('float32')/255.0\n",
    "Lenet_X_Test1=Lenet_X_Test.astype('float32')/255.0"
   ]
  },
  {
   "cell_type": "code",
   "execution_count": null,
   "metadata": {
    "id": "_j7GwMGPRfNl"
   },
   "outputs": [],
   "source": [
    "Lnt_Y_Train=to_categorical(Lenet_Y_Train,Class_Length)\n",
    "Lnt_Y_Test=to_categorical(Lenet_Y_Test,Class_Length)\n",
    "x_train_gray = np.dot(Lenet_X_Train, [0.2989, 0.5870, 0.1140])\n",
    "x_test_gray = np.dot(Lenet_X_Test, [0.2989, 0.5870, 0.1140])\n",
    "Lnt_X_Train = x_train_gray.reshape(x_train_gray.shape[0], 32, 32, 1)\n",
    "Lnt_X_Test = x_test_gray.reshape(x_test_gray.shape[0], 32, 32, 1)"
   ]
  },
  {
   "cell_type": "code",
   "execution_count": null,
   "metadata": {
    "colab": {
     "base_uri": "https://localhost:8080/"
    },
    "id": "sZi-_-n8T_cU",
    "outputId": "ea57f06d-aa15-437d-94d8-065900c96d87"
   },
   "outputs": [
    {
     "name": "stdout",
     "output_type": "stream",
     "text": [
      "Model: \"sequential_2\"\n",
      "_________________________________________________________________\n",
      " Layer (type)                Output Shape              Param #   \n",
      "=================================================================\n",
      " Conv_1 (Conv2D)             (None, 28, 28, 6)         156       \n",
      "                                                                 \n",
      " MaxPool2D_1 (AveragePooling  (None, 14, 14, 6)        0         \n",
      " 2D)                                                             \n",
      "                                                                 \n",
      " Conv_2 (Conv2D)             (None, 10, 10, 16)        2416      \n",
      "                                                                 \n",
      " MaxPool2D_2 (AveragePooling  (None, 5, 5, 16)         0         \n",
      " 2D)                                                             \n",
      "                                                                 \n",
      " Flat_1 (Flatten)            (None, 400)               0         \n",
      "                                                                 \n",
      " FC_1 (Dense)                (None, 120)               48120     \n",
      "                                                                 \n",
      " FC_2 (Dense)                (None, 84)                10164     \n",
      "                                                                 \n",
      " Our_Layer (Dense)           (None, 10)                850       \n",
      "                                                                 \n",
      "=================================================================\n",
      "Total params: 61,706\n",
      "Trainable params: 61,706\n",
      "Non-trainable params: 0\n",
      "_________________________________________________________________\n"
     ]
    }
   ],
   "source": [
    "Lenet_Model=Sequential()\n",
    "Lenet_Model.add(Conv2D(filters=6, input_shape=(32,32,1), kernel_size=(5,5), strides=(1,1), padding='valid',activation='relu',name='Conv_1'))\n",
    "Lenet_Model.add(AveragePooling2D(pool_size=(2,2), strides=(2,2), padding='valid',name='MaxPool2D_1'))\n",
    "Lenet_Model.add(Conv2D(filters=16, kernel_size=(5,5), strides=(1,1), padding='valid',activation='relu',name='Conv_2'))\n",
    "Lenet_Model.add(AveragePooling2D(pool_size=(2,2), strides=(2,2), padding='valid',name='MaxPool2D_2'))\n",
    "Lenet_Model.add(Flatten(name='Flat_1'))\n",
    "Lenet_Model.add(Dense(120,activation='relu',name='FC_1'))\n",
    "Lenet_Model.add(Dense(84,activation='relu',name='FC_2'))\n",
    "Lenet_Model.add(Dense(10,activation='softmax',name='Our_Layer'))\n",
    "Lenet_Model.summary()"
   ]
  },
  {
   "cell_type": "code",
   "execution_count": null,
   "metadata": {
    "id": "kKf3lIzwv0WA"
   },
   "outputs": [],
   "source": [
    "Lenet_Model.compile(optimizer='Adam',loss='categorical_crossentropy',metrics=['accuracy'])"
   ]
  },
  {
   "cell_type": "code",
   "execution_count": null,
   "metadata": {
    "colab": {
     "base_uri": "https://localhost:8080/"
    },
    "id": "EddIt-zUwSf4",
    "outputId": "e5447574-6efa-4392-b06d-d2d86ff68050"
   },
   "outputs": [
    {
     "name": "stdout",
     "output_type": "stream",
     "text": [
      "Epoch 1/10\n",
      "10/10 [==============================] - 3s 29ms/step - loss: 5.0321 - accuracy: 0.2094 - val_loss: 1.7887 - val_accuracy: 0.4250\n",
      "Epoch 2/10\n",
      "10/10 [==============================] - 0s 7ms/step - loss: 1.3500 - accuracy: 0.6562 - val_loss: 1.1543 - val_accuracy: 0.7125\n",
      "Epoch 3/10\n",
      "10/10 [==============================] - 0s 8ms/step - loss: 0.8112 - accuracy: 0.8125 - val_loss: 0.8369 - val_accuracy: 0.7500\n",
      "Epoch 4/10\n",
      "10/10 [==============================] - 0s 7ms/step - loss: 0.4155 - accuracy: 0.8813 - val_loss: 0.7066 - val_accuracy: 0.7500\n",
      "Epoch 5/10\n",
      "10/10 [==============================] - 0s 7ms/step - loss: 0.2035 - accuracy: 0.9563 - val_loss: 0.5925 - val_accuracy: 0.8125\n",
      "Epoch 6/10\n",
      "10/10 [==============================] - 0s 6ms/step - loss: 0.1056 - accuracy: 0.9750 - val_loss: 0.4875 - val_accuracy: 0.8500\n",
      "Epoch 7/10\n",
      "10/10 [==============================] - 0s 8ms/step - loss: 0.0517 - accuracy: 0.9875 - val_loss: 0.4276 - val_accuracy: 0.8875\n",
      "Epoch 8/10\n",
      "10/10 [==============================] - 0s 6ms/step - loss: 0.0276 - accuracy: 0.9969 - val_loss: 0.4435 - val_accuracy: 0.9000\n",
      "Epoch 9/10\n",
      "10/10 [==============================] - 0s 6ms/step - loss: 0.0153 - accuracy: 1.0000 - val_loss: 0.4392 - val_accuracy: 0.9000\n",
      "Epoch 10/10\n",
      "10/10 [==============================] - 0s 7ms/step - loss: 0.0098 - accuracy: 1.0000 - val_loss: 0.3952 - val_accuracy: 0.9000\n"
     ]
    },
    {
     "data": {
      "text/plain": [
       "<keras.callbacks.History at 0x7f7afa1cf400>"
      ]
     },
     "execution_count": 30,
     "metadata": {},
     "output_type": "execute_result"
    }
   ],
   "source": [
    "Lenet_Model.fit(Lnt_X_Train,Lnt_Y_Train,validation_split=0.2,epochs=10,shuffle=True)"
   ]
  },
  {
   "cell_type": "code",
   "execution_count": null,
   "metadata": {
    "colab": {
     "base_uri": "https://localhost:8080/"
    },
    "id": "MaeNYfYMx6UB",
    "outputId": "f8ea69a8-0b3e-402d-af1e-3da0e406070b"
   },
   "outputs": [
    {
     "name": "stdout",
     "output_type": "stream",
     "text": [
      "4/4 [==============================] - 0s 20ms/step - loss: 0.1896 - accuracy: 0.9200\n",
      "LOSS : 0.18956588208675385\n",
      "ACCURACY : 0.9200000166893005\n"
     ]
    }
   ],
   "source": [
    "c,d=Lenet_Model.evaluate(Lnt_X_Test,Lnt_Y_Test)\n",
    "print(f'LOSS : {c}\\nACCURACY : {d}')"
   ]
  },
  {
   "cell_type": "markdown",
   "metadata": {
    "id": "F-UjHNB_fnHC"
   },
   "source": [
    "\n",
    "\n",
    "# **VGG-16**\n",
    "(224x224x3)\n",
    "\n",
    "(IMPLEMENTATION / PERFORMANCE ANALYSIS)"
   ]
  },
  {
   "cell_type": "code",
   "execution_count": null,
   "metadata": {
    "id": "5-umai1kg25c"
   },
   "outputs": [],
   "source": [
    "Vgg_Images, Vgg_Label = data_resize(224,224,3)\n",
    "Vgg_X_Train, Vgg_X_Test, Vgg_Y_Train, Vgg_Y_Test =  train_test_split(Vgg_Images,Vgg_Label,test_size=0.2,random_state=1)"
   ]
  },
  {
   "cell_type": "code",
   "execution_count": null,
   "metadata": {
    "colab": {
     "base_uri": "https://localhost:8080/"
    },
    "id": "_ejdZn0GRjj1",
    "outputId": "6864cc0a-438c-4c33-e184-520de2e14c53"
   },
   "outputs": [
    {
     "name": "stdout",
     "output_type": "stream",
     "text": [
      "\n"
     ]
    }
   ],
   "source": [
    "Vgg_X_Train=Vgg_X_Train.astype('float32')/255.0\n",
    "Vgg_X_Test=Vgg_X_Test.astype('float32')/255.0\n",
    "print()"
   ]
  },
  {
   "cell_type": "code",
   "execution_count": null,
   "metadata": {
    "id": "BpDude0uRkxl"
   },
   "outputs": [],
   "source": [
    "Vgg_Y_Train=to_categorical(Vgg_Y_Train,Class_Length)\n",
    "Vgg_Y_Test=to_categorical(Vgg_Y_Test,Class_Length)"
   ]
  },
  {
   "cell_type": "code",
   "execution_count": null,
   "metadata": {
    "id": "8mtG9aIUUWxF"
   },
   "outputs": [],
   "source": [
    "model1 = Sequential()\n",
    "model1.add(Conv2D(input_shape=(224,224,3),filters=64,kernel_size=(3,3),padding=\"valid\", activation=\"relu\"))\n",
    "model1.add(Conv2D(filters=64,kernel_size=(3,3),padding=\"valid\", activation=\"relu\"))\n",
    "model1.add(MaxPool2D(pool_size=(2,2),strides=(2,2)))\n",
    "model1.add(Conv2D(filters=128, kernel_size=(3,3), padding=\"valid\", activation=\"relu\"))\n",
    "model1.add(Conv2D(filters=128, kernel_size=(3,3), padding=\"valid\", activation=\"relu\"))\n",
    "model1.add(MaxPool2D(pool_size=(2,2),strides=(2,2)))\n",
    "model1.add(Conv2D(filters=256, kernel_size=(3,3), padding=\"valid\", activation=\"relu\"))\n",
    "model1.add(Conv2D(filters=256, kernel_size=(3,3), padding=\"valid\", activation=\"relu\"))\n",
    "model1.add(Conv2D(filters=256, kernel_size=(3,3), padding=\"valid\", activation=\"relu\"))\n",
    "model1.add(MaxPool2D(pool_size=(2,2),strides=(2,2)))\n",
    "model1.add(Conv2D(filters=512, kernel_size=(3,3), padding=\"valid\", activation=\"relu\"))\n",
    "model1.add(Conv2D(filters=512, kernel_size=(3,3), padding=\"valid\", activation=\"relu\"))\n",
    "model1.add(Conv2D(filters=512, kernel_size=(3,3), padding=\"valid\", activation=\"relu\"))\n",
    "model1.add(MaxPool2D(pool_size=(2,2),strides=(2,2)))\n",
    "model1.add(Conv2D(filters=512, kernel_size=(3,3), padding=\"valid\", activation=\"relu\"))\n",
    "model1.add(Conv2D(filters=512, kernel_size=(3,3), padding=\"valid\", activation=\"relu\"))\n",
    "model1.add(Conv2D(filters=512, kernel_size=(3,3), padding=\"valid\", activation=\"relu\"))\n",
    "model1.add(MaxPool2D(pool_size=(2,2),strides=(2,2)))\n",
    "model1.add(Flatten())\n",
    "model1.add(Dense(units=4096,activation=\"relu\"))\n",
    "model1.add(Dense(units=4096,activation=\"relu\"))\n",
    "model1.add(Dense(units=10, activation=\"softmax\"))\n",
    "model1.compile(optimizer=Adam(learning_rate=0.001), loss=keras.losses.categorical_crossentropy, metrics=['accuracy'])"
   ]
  },
  {
   "cell_type": "code",
   "execution_count": null,
   "metadata": {
    "colab": {
     "base_uri": "https://localhost:8080/"
    },
    "id": "zY75Zb5R1HTS",
    "outputId": "c4adc444-4de2-429b-f9d8-9ab43009434f"
   },
   "outputs": [
    {
     "name": "stdout",
     "output_type": "stream",
     "text": [
      "Epoch 1/10\n",
      "10/10 [==============================] - 5s 413ms/step - loss: 20.0684 - accuracy: 0.1063 - val_loss: 2.3062 - val_accuracy: 0.0875\n",
      "Epoch 2/10\n",
      "10/10 [==============================] - 4s 380ms/step - loss: 2.3021 - accuracy: 0.1063 - val_loss: 2.3114 - val_accuracy: 0.0625\n",
      "Epoch 3/10\n",
      "10/10 [==============================] - 4s 384ms/step - loss: 2.3017 - accuracy: 0.1125 - val_loss: 2.3171 - val_accuracy: 0.0625\n",
      "Epoch 4/10\n",
      "10/10 [==============================] - 4s 384ms/step - loss: 2.3000 - accuracy: 0.0875 - val_loss: 2.3087 - val_accuracy: 0.0875\n",
      "Epoch 5/10\n",
      "10/10 [==============================] - 4s 384ms/step - loss: 2.3261 - accuracy: 0.0906 - val_loss: 2.3087 - val_accuracy: 0.0625\n",
      "Epoch 6/10\n",
      "10/10 [==============================] - 4s 384ms/step - loss: 2.2990 - accuracy: 0.0969 - val_loss: 2.3126 - val_accuracy: 0.0875\n",
      "Epoch 7/10\n",
      "10/10 [==============================] - 4s 375ms/step - loss: 2.2985 - accuracy: 0.1094 - val_loss: 2.3111 - val_accuracy: 0.0625\n",
      "Epoch 8/10\n",
      "10/10 [==============================] - 4s 368ms/step - loss: 2.2985 - accuracy: 0.0875 - val_loss: 2.3156 - val_accuracy: 0.0875\n",
      "Epoch 9/10\n",
      "10/10 [==============================] - 4s 366ms/step - loss: 2.2985 - accuracy: 0.1031 - val_loss: 2.3154 - val_accuracy: 0.0625\n",
      "Epoch 10/10\n",
      "10/10 [==============================] - 4s 371ms/step - loss: 2.2981 - accuracy: 0.1125 - val_loss: 2.3113 - val_accuracy: 0.0625\n"
     ]
    },
    {
     "data": {
      "text/plain": [
       "<keras.callbacks.History at 0x7f7ad3e68640>"
      ]
     },
     "execution_count": 36,
     "metadata": {},
     "output_type": "execute_result"
    }
   ],
   "source": [
    "model1.fit(Vgg_X_Train,Vgg_Y_Train,validation_split=0.2,epochs=10,shuffle=True)"
   ]
  },
  {
   "cell_type": "code",
   "execution_count": null,
   "metadata": {
    "colab": {
     "base_uri": "https://localhost:8080/"
    },
    "id": "0R60nxJE2HWu",
    "outputId": "67d8867a-557d-4192-ceb6-879546260f6f"
   },
   "outputs": [
    {
     "name": "stdout",
     "output_type": "stream",
     "text": [
      "4/4 [==============================] - 0s 88ms/step - loss: 2.3395 - accuracy: 0.0900\n",
      "LOSS : 2.339451789855957\n",
      "ACCURACY : 0.09000000357627869\n"
     ]
    }
   ],
   "source": [
    "e,f=model1.evaluate(Vgg_X_Test,Vgg_Y_Test)\n",
    "print(f'LOSS : {e}\\nACCURACY : {f}')"
   ]
  },
  {
   "cell_type": "markdown",
   "metadata": {
    "id": "aq1FUXw3q3Uc"
   },
   "source": [
    "# **MI-NET-8**\n",
    "(48x48x3)\n",
    "\n",
    "(CNN DESIGN PROJECT)"
   ]
  },
  {
   "cell_type": "code",
   "execution_count": null,
   "metadata": {
    "id": "3VtCfBZosRXB"
   },
   "outputs": [],
   "source": [
    "MI_Images, MI_Label = data_resize(48,48,3)\n",
    "MI_X_Train, MI_X_Test, MI_Y_Train, MI_Y_Test =  train_test_split(MI_Images, MI_Label, test_size=0.2, random_state=1)"
   ]
  },
  {
   "cell_type": "code",
   "execution_count": null,
   "metadata": {
    "id": "zlEI1kbFtiLZ"
   },
   "outputs": [],
   "source": [
    "MI_X_Train = MI_X_Train.astype('float32')/255.0\n",
    "MI_X_Test = MI_X_Test.astype('float32')/255.0\n",
    "MI_Y_Train=to_categorical(MI_Y_Train,Class_Length)\n",
    "MI_Y_Test=to_categorical(MI_Y_Test,Class_Length)"
   ]
  },
  {
   "cell_type": "code",
   "execution_count": null,
   "metadata": {
    "id": "gBw83kkAF7D9"
   },
   "outputs": [],
   "source": [
    "def model_Builder(hp):\n",
    "  model3 = Sequential()\n",
    "  hp_Model=hp.Choice('Model_no',values=[1,2,3,4,5])\n",
    "  if hp_Model == 1:\n",
    "    model3.add(Conv2D(filters=30, input_shape=(48,48,3), kernel_size=(3,3), strides=(2,2), padding='valid',activation='relu',name='Conv_1'))\n",
    "    model3.add(MaxPooling2D(pool_size=(2,2), strides=(1,1), padding='valid',name='MaxPool2D_1'))\n",
    "    model3.add(Conv2D(filters=50, kernel_size=(3,3), strides=(1,1), padding='valid',activation='relu',name='Conv_2'))\n",
    "    model3.add(MaxPooling2D(pool_size=(3,3), strides=(1,1), padding='valid',name='MaxPool2D_2'))\n",
    "    model3.add(Conv2D(filters=70, kernel_size=(3,3), strides=(1,1), padding='valid',activation='relu',name='Conv_3'))\n",
    "    model3.add(Conv2D(filters=70, kernel_size=(3,3), strides=(1,1), padding='valid',activation='relu',name='Conv_4'))\n",
    "    model3.add(Conv2D(filters=50, kernel_size=(3,3), strides=(1,1), padding='valid',activation='relu',name='Conv_5'))\n",
    "    model3.add(MaxPooling2D(pool_size=(3,3), strides=(1,1), padding='valid',name='MaxPool2D_3'))\n",
    "  if hp_Model == 2:\n",
    "    model3.add(Conv2D(filters=70, input_shape=(48,48,3), kernel_size=(7,7), strides=(2,2), padding='valid',activation='relu',name='Conv_1'))\n",
    "    model3.add(MaxPooling2D(pool_size=(2,2), strides=(1,1), padding='valid',name='MaxPool2D_1'))\n",
    "    model3.add(Conv2D(filters=100, kernel_size=(5,5), strides=(1,1), padding='same',activation='relu',name='Conv_2'))\n",
    "    model3.add(MaxPooling2D(pool_size=(2,2), strides=(1,1), padding='valid',name='MaxPool2D_2'))\n",
    "    model3.add(Conv2D(filters=150, kernel_size=(3,3), strides=(1,1), padding='valid',activation='relu',name='Conv_3'))\n",
    "    model3.add(Conv2D(filters=150, kernel_size=(3,3), strides=(1,1), padding='valid',activation='relu',name='Conv_4'))\n",
    "    model3.add(Conv2D(filters=100, kernel_size=(3,3), strides=(1,1), padding='valid',activation='relu',name='Conv_5'))\n",
    "    model3.add(MaxPooling2D(pool_size=(3,3), strides=(1,1), padding='valid',name='MaxPool2D_3'))\n",
    "  if hp_Model == 3:\n",
    "    model3.add(Conv2D(filters=70, input_shape=(48,48,3), kernel_size=(3,3), strides=(2,2), padding='valid',activation='relu',name='Conv_1'))\n",
    "    model3.add(MaxPooling2D(pool_size=(3,3), strides=(1,1), padding='same',name='MaxPool2D_1'))\n",
    "    model3.add(Conv2D(filters=100, kernel_size=(5,5), strides=(1,1), padding='valid',activation='relu',name='Conv_2'))\n",
    "    model3.add(MaxPooling2D(pool_size=(3,3), strides=(1,1), padding='valid',name='MaxPool2D_2'))\n",
    "    model3.add(Conv2D(filters=150, kernel_size=(3,3), strides=(1,1), padding='valid',activation='relu',name='Conv_3'))\n",
    "    model3.add(Conv2D(filters=150, kernel_size=(3,3), strides=(1,1), padding='valid',activation='relu',name='Conv_4'))\n",
    "    model3.add(Conv2D(filters=100, kernel_size=(3,3), strides=(1,1), padding='same',activation='relu',name='Conv_5'))\n",
    "    model3.add(MaxPooling2D(pool_size=(2,2), strides=(1,1), padding='valid',name='MaxPool2D_3'))\n",
    "  if hp_Model == 4:\n",
    "    model3.add(Conv2D(filters=50, input_shape=(48,48,3), kernel_size=(7,7), strides=(2,2), padding='valid',activation='relu',name='Conv_1'))\n",
    "    model3.add(MaxPooling2D(pool_size=(2,2), strides=(1,1), padding='valid',name='MaxPool2D_1'))\n",
    "    model3.add(Conv2D(filters=70, kernel_size=(5,5), strides=(1,1), padding='same',activation='relu',name='Conv_2'))\n",
    "    model3.add(MaxPooling2D(pool_size=(2,2), strides=(1,1), padding='valid',name='MaxPool2D_2'))\n",
    "    model3.add(Conv2D(filters=100, kernel_size=(3,3), strides=(1,1), padding='valid',activation='relu',name='Conv_3'))\n",
    "    model3.add(Conv2D(filters=100, kernel_size=(3,3), strides=(1,1), padding='valid',activation='relu',name='Conv_4'))\n",
    "    model3.add(Conv2D(filters=70, kernel_size=(3,3), strides=(1,1), padding='valid',activation='relu',name='Conv_5'))\n",
    "    model3.add(MaxPooling2D(pool_size=(3,3), strides=(1,1), padding='valid',name='MaxPool2D_3'))\n",
    "  if hp_Model == 5:\n",
    "    model3.add(Conv2D(filters=150, input_shape=(48,48,3), kernel_size=(7,7), strides=(2,2), padding='valid',activation='relu',name='Conv_1'))\n",
    "    model3.add(MaxPooling2D(pool_size=(2,2), strides=(1,1), padding='valid',name='MaxPool2D_1'))\n",
    "    model3.add(Conv2D(filters=200, kernel_size=(5,5), strides=(1,1), padding='same',activation='relu',name='Conv_2'))\n",
    "    model3.add(MaxPooling2D(pool_size=(2,2), strides=(1,1), padding='valid',name='MaxPool2D_2'))\n",
    "    model3.add(Conv2D(filters=250, kernel_size=(3,3), strides=(1,1), padding='valid',activation='relu',name='Conv_3'))\n",
    "    model3.add(Conv2D(filters=250, kernel_size=(3,3), strides=(1,1), padding='valid',activation='relu',name='Conv_4'))\n",
    "    model3.add(Conv2D(filters=200, kernel_size=(3,3), strides=(1,1), padding='valid',activation='relu',name='Conv_5'))\n",
    "    model3.add(MaxPooling2D(pool_size=(3,3), strides=(1,1), padding='valid',name='MaxPool2D_3'))\n",
    "  model3.add(Flatten())\n",
    "  model3.add(Dense(4096, input_shape=(150*150*3,),activation='relu',name='FC_Layer1'))\n",
    "  model3.add(Dropout(0.4))\n",
    "  model3.add(Dense(4096,activation='relu',name='FC_Layer2'))\n",
    "  model3.add(Dropout(0.4))\n",
    "  model3.add(Dense(4096,activation='relu',name='FC_Layer3'))\n",
    "  model3.add(Dropout(0.4))\n",
    "  model3.add(Dense(1000,activation='relu',name='Out_Layer'))\n",
    "  model3.add(Dense(10,activation='softmax',name='Out_Layer_2'))\n",
    "  model3.compile(optimizer=keras.optimizers.Adam(learning_rate=0.0001),loss=keras.losses.categorical_crossentropy, metrics=['accuracy'])\n",
    "  model3.fit(MI_X_Train,MI_Y_Train, validation_split=0.2, epochs=10)\n",
    "  return model3"
   ]
  },
  {
   "cell_type": "code",
   "execution_count": null,
   "metadata": {
    "colab": {
     "base_uri": "https://localhost:8080/"
    },
    "id": "gxS3umMwz0MC",
    "outputId": "e7f42212-4cb6-413b-e523-85022928753f"
   },
   "outputs": [
    {
     "name": "stdout",
     "output_type": "stream",
     "text": [
      "Epoch 1/10\n",
      "10/10 [==============================] - 10s 62ms/step - loss: 2.3051 - accuracy: 0.1094 - val_loss: 2.2744 - val_accuracy: 0.0875\n",
      "Epoch 2/10\n",
      "10/10 [==============================] - 0s 22ms/step - loss: 2.2684 - accuracy: 0.1344 - val_loss: 2.2221 - val_accuracy: 0.1750\n",
      "Epoch 3/10\n",
      "10/10 [==============================] - 0s 21ms/step - loss: 2.2230 - accuracy: 0.2094 - val_loss: 2.0820 - val_accuracy: 0.2500\n",
      "Epoch 4/10\n",
      "10/10 [==============================] - 0s 21ms/step - loss: 1.9988 - accuracy: 0.3063 - val_loss: 1.4916 - val_accuracy: 0.5750\n",
      "Epoch 5/10\n",
      "10/10 [==============================] - 0s 21ms/step - loss: 1.3488 - accuracy: 0.5250 - val_loss: 1.1145 - val_accuracy: 0.5625\n",
      "Epoch 6/10\n",
      "10/10 [==============================] - 0s 22ms/step - loss: 0.8930 - accuracy: 0.7000 - val_loss: 0.8506 - val_accuracy: 0.7250\n",
      "Epoch 7/10\n",
      "10/10 [==============================] - 0s 22ms/step - loss: 0.5913 - accuracy: 0.8344 - val_loss: 0.9089 - val_accuracy: 0.6750\n",
      "Epoch 8/10\n",
      "10/10 [==============================] - 0s 23ms/step - loss: 0.4586 - accuracy: 0.8500 - val_loss: 0.5262 - val_accuracy: 0.8000\n",
      "Epoch 9/10\n",
      "10/10 [==============================] - 0s 21ms/step - loss: 0.4699 - accuracy: 0.8406 - val_loss: 0.5207 - val_accuracy: 0.8000\n",
      "Epoch 10/10\n",
      "10/10 [==============================] - 0s 22ms/step - loss: 0.5030 - accuracy: 0.8313 - val_loss: 0.5435 - val_accuracy: 0.7625\n"
     ]
    }
   ],
   "source": [
    "Tuner=kt.Hyperband(model_Builder,objective='val_accuracy',directory='Asad',project_name='TUNER')\n",
    "Early_stp=keras.callbacks.EarlyStopping(monitor='val_loss',patience=5)"
   ]
  },
  {
   "cell_type": "code",
   "execution_count": null,
   "metadata": {
    "colab": {
     "base_uri": "https://localhost:8080/"
    },
    "id": "pKa2b6fD0C6L",
    "outputId": "b1d63181-b386-4dba-b75c-269cb30ad8de"
   },
   "outputs": [
    {
     "name": "stdout",
     "output_type": "stream",
     "text": [
      "Trial 5 Complete [00h 00m 53s]\n",
      "val_accuracy: 0.887499988079071\n",
      "\n",
      "Best val_accuracy So Far: 0.9125000238418579\n",
      "Total elapsed time: 00h 02m 21s\n"
     ]
    }
   ],
   "source": [
    "Tuner.search(MI_X_Train,MI_Y_Train,epochs=10,validation_split=0.2,verbose=2,callbacks=[Early_stp])"
   ]
  },
  {
   "cell_type": "code",
   "execution_count": null,
   "metadata": {
    "colab": {
     "base_uri": "https://localhost:8080/"
    },
    "id": "KKu6z5u-9gvY",
    "outputId": "8bbbfcbf-0b14-422d-f60e-c74407347347"
   },
   "outputs": [
    {
     "name": "stdout",
     "output_type": "stream",
     "text": [
      "Epoch 1/10\n",
      "10/10 [==============================] - 1s 62ms/step - loss: 2.3116 - accuracy: 0.0844 - val_loss: 2.2934 - val_accuracy: 0.1875\n",
      "Epoch 2/10\n",
      "10/10 [==============================] - 0s 41ms/step - loss: 2.2876 - accuracy: 0.1156 - val_loss: 2.2574 - val_accuracy: 0.0875\n",
      "Epoch 3/10\n",
      "10/10 [==============================] - 0s 36ms/step - loss: 2.2602 - accuracy: 0.0969 - val_loss: 2.1494 - val_accuracy: 0.3000\n",
      "Epoch 4/10\n",
      "10/10 [==============================] - 0s 36ms/step - loss: 1.9461 - accuracy: 0.3281 - val_loss: 1.3816 - val_accuracy: 0.4500\n",
      "Epoch 5/10\n",
      "10/10 [==============================] - 0s 37ms/step - loss: 1.3956 - accuracy: 0.4563 - val_loss: 1.0836 - val_accuracy: 0.5750\n",
      "Epoch 6/10\n",
      "10/10 [==============================] - 0s 37ms/step - loss: 0.8517 - accuracy: 0.6812 - val_loss: 1.0854 - val_accuracy: 0.5750\n",
      "Epoch 7/10\n",
      "10/10 [==============================] - 0s 36ms/step - loss: 0.7600 - accuracy: 0.6969 - val_loss: 0.6131 - val_accuracy: 0.8375\n",
      "Epoch 8/10\n",
      "10/10 [==============================] - 0s 37ms/step - loss: 0.4594 - accuracy: 0.8344 - val_loss: 0.4913 - val_accuracy: 0.8500\n",
      "Epoch 9/10\n",
      "10/10 [==============================] - 0s 37ms/step - loss: 0.2984 - accuracy: 0.8938 - val_loss: 0.5978 - val_accuracy: 0.8375\n",
      "Epoch 10/10\n",
      "10/10 [==============================] - 0s 37ms/step - loss: 0.1858 - accuracy: 0.9406 - val_loss: 0.4048 - val_accuracy: 0.8625\n",
      "Model: \"sequential\"\n",
      "_________________________________________________________________\n",
      " Layer (type)                Output Shape              Param #   \n",
      "=================================================================\n",
      " Conv_1 (Conv2D)             (None, 23, 23, 70)        1960      \n",
      "                                                                 \n",
      " MaxPool2D_1 (MaxPooling2D)  (None, 23, 23, 70)        0         \n",
      "                                                                 \n",
      " Conv_2 (Conv2D)             (None, 19, 19, 100)       175100    \n",
      "                                                                 \n",
      " MaxPool2D_2 (MaxPooling2D)  (None, 17, 17, 100)       0         \n",
      "                                                                 \n",
      " Conv_3 (Conv2D)             (None, 15, 15, 150)       135150    \n",
      "                                                                 \n",
      " Conv_4 (Conv2D)             (None, 13, 13, 150)       202650    \n",
      "                                                                 \n",
      " Conv_5 (Conv2D)             (None, 13, 13, 100)       135100    \n",
      "                                                                 \n",
      " MaxPool2D_3 (MaxPooling2D)  (None, 12, 12, 100)       0         \n",
      "                                                                 \n",
      " flatten (Flatten)           (None, 14400)             0         \n",
      "                                                                 \n",
      " FC_Layer1 (Dense)           (None, 4096)              58986496  \n",
      "                                                                 \n",
      " dropout (Dropout)           (None, 4096)              0         \n",
      "                                                                 \n",
      " FC_Layer2 (Dense)           (None, 4096)              16781312  \n",
      "                                                                 \n",
      " dropout_1 (Dropout)         (None, 4096)              0         \n",
      "                                                                 \n",
      " FC_Layer3 (Dense)           (None, 4096)              16781312  \n",
      "                                                                 \n",
      " dropout_2 (Dropout)         (None, 4096)              0         \n",
      "                                                                 \n",
      " Out_Layer (Dense)           (None, 1000)              4097000   \n",
      "                                                                 \n",
      " Out_Layer_2 (Dense)         (None, 10)                10010     \n",
      "                                                                 \n",
      "=================================================================\n",
      "Total params: 97,306,090\n",
      "Trainable params: 97,306,090\n",
      "Non-trainable params: 0\n",
      "_________________________________________________________________\n"
     ]
    }
   ],
   "source": [
    "best_Model=Tuner.get_best_models(1)[0]\n",
    "best_Model.summary()"
   ]
  },
  {
   "cell_type": "code",
   "execution_count": null,
   "metadata": {
    "colab": {
     "base_uri": "https://localhost:8080/"
    },
    "id": "pdhqE9cy-NPQ",
    "outputId": "03874827-8a01-4e67-fc49-7158bc76c483"
   },
   "outputs": [
    {
     "name": "stdout",
     "output_type": "stream",
     "text": [
      "Epoch 1/10\n",
      "10/10 [==============================] - 1s 71ms/step - loss: 2.3153 - accuracy: 0.0656 - val_loss: 2.2827 - val_accuracy: 0.0875\n",
      "Epoch 2/10\n",
      "10/10 [==============================] - 0s 41ms/step - loss: 2.2840 - accuracy: 0.1125 - val_loss: 2.2400 - val_accuracy: 0.2250\n",
      "Epoch 3/10\n",
      "10/10 [==============================] - 0s 40ms/step - loss: 2.2152 - accuracy: 0.1688 - val_loss: 2.0218 - val_accuracy: 0.3125\n",
      "Epoch 4/10\n",
      "10/10 [==============================] - 0s 39ms/step - loss: 1.7969 - accuracy: 0.3156 - val_loss: 1.3994 - val_accuracy: 0.3250\n",
      "Epoch 5/10\n",
      "10/10 [==============================] - 0s 39ms/step - loss: 1.1717 - accuracy: 0.5437 - val_loss: 1.1622 - val_accuracy: 0.6000\n",
      "Epoch 6/10\n",
      "10/10 [==============================] - 0s 38ms/step - loss: 1.0589 - accuracy: 0.6219 - val_loss: 1.3467 - val_accuracy: 0.5750\n",
      "Epoch 7/10\n",
      "10/10 [==============================] - 0s 44ms/step - loss: 0.8854 - accuracy: 0.6625 - val_loss: 0.8441 - val_accuracy: 0.7375\n",
      "Epoch 8/10\n",
      "10/10 [==============================] - 0s 39ms/step - loss: 0.5587 - accuracy: 0.7844 - val_loss: 0.7837 - val_accuracy: 0.6750\n",
      "Epoch 9/10\n",
      "10/10 [==============================] - 0s 41ms/step - loss: 0.3613 - accuracy: 0.8719 - val_loss: 0.6837 - val_accuracy: 0.7500\n",
      "Epoch 10/10\n",
      "10/10 [==============================] - 0s 39ms/step - loss: 0.3547 - accuracy: 0.8813 - val_loss: 0.5848 - val_accuracy: 0.8375\n",
      "Epoch 1/10\n",
      "10/10 [==============================] - 0s 41ms/step - loss: 0.3541 - accuracy: 0.8625 - val_loss: 0.5401 - val_accuracy: 0.8000\n",
      "Epoch 2/10\n",
      "10/10 [==============================] - 0s 36ms/step - loss: 0.2735 - accuracy: 0.8875 - val_loss: 0.4114 - val_accuracy: 0.8750\n",
      "Epoch 3/10\n",
      "10/10 [==============================] - 0s 41ms/step - loss: 0.1550 - accuracy: 0.9531 - val_loss: 0.3710 - val_accuracy: 0.8875\n",
      "Epoch 4/10\n",
      "10/10 [==============================] - 0s 41ms/step - loss: 0.1523 - accuracy: 0.9438 - val_loss: 0.3244 - val_accuracy: 0.8875\n",
      "Epoch 5/10\n",
      "10/10 [==============================] - 0s 36ms/step - loss: 0.1292 - accuracy: 0.9500 - val_loss: 0.3433 - val_accuracy: 0.8625\n",
      "Epoch 6/10\n",
      "10/10 [==============================] - 0s 36ms/step - loss: 0.1076 - accuracy: 0.9563 - val_loss: 0.3518 - val_accuracy: 0.8625\n",
      "Epoch 7/10\n",
      "10/10 [==============================] - 0s 36ms/step - loss: 0.1782 - accuracy: 0.9281 - val_loss: 0.2979 - val_accuracy: 0.8750\n",
      "Epoch 8/10\n",
      "10/10 [==============================] - 0s 36ms/step - loss: 0.1471 - accuracy: 0.9438 - val_loss: 0.3875 - val_accuracy: 0.8750\n",
      "Epoch 9/10\n",
      "10/10 [==============================] - 0s 38ms/step - loss: 0.1053 - accuracy: 0.9719 - val_loss: 0.3060 - val_accuracy: 0.8625\n",
      "Epoch 10/10\n",
      "10/10 [==============================] - 0s 36ms/step - loss: 0.0704 - accuracy: 0.9781 - val_loss: 0.2353 - val_accuracy: 0.9000\n"
     ]
    }
   ],
   "source": [
    "best_hps=Tuner.get_best_hyperparameters(1)[0]\n",
    "new_Model=Tuner.hypermodel.build(best_hps)\n",
    "history=new_Model.fit(MI_X_Train,MI_Y_Train,epochs=10,validation_split=0.2)"
   ]
  },
  {
   "cell_type": "code",
   "execution_count": null,
   "metadata": {
    "colab": {
     "base_uri": "https://localhost:8080/"
    },
    "id": "eNX3xuHn-7k8",
    "outputId": "a4b90057-91a1-4683-9098-e2538e5871f1"
   },
   "outputs": [
    {
     "name": "stdout",
     "output_type": "stream",
     "text": [
      "4/4 [==============================] - 0s 80ms/step - loss: 0.1434 - accuracy: 0.9500\n",
      "LOSS : 0.14342497289180756\n",
      "ACCURACY : 0.949999988079071\n"
     ]
    }
   ],
   "source": [
    "a,b=new_Model.evaluate(MI_X_Test,MI_Y_Test)\n",
    "print(f'LOSS : {a}')\n",
    "print(f'ACCURACY : {b}')"
   ]
  },
  {
   "cell_type": "code",
   "execution_count": null,
   "metadata": {
    "colab": {
     "base_uri": "https://localhost:8080/",
     "height": 485
    },
    "id": "sd6g_JNR9oUl",
    "outputId": "72c4c918-27d6-47b6-a130-0b0039ed4b25"
   },
   "outputs": [
    {
     "name": "stdout",
     "output_type": "stream",
     "text": [
      "4/4 [==============================] - 0s 7ms/step\n",
      "1\n",
      "[0. 1. 0. 0. 0. 0. 0. 0. 0. 0.]\n"
     ]
    },
    {
     "data": {
      "image/png": "[encoded data removed]",
      "text/plain": [
       "<Figure size 640x480 with 1 Axes>"
      ]
     },
     "metadata": {},
     "output_type": "display_data"
    }
   ],
   "source": [
    "predictions = new_Model.predict(MI_X_Test)\n",
    "testing=6\n",
    "plt.imshow(MI_X_Test[testing])\n",
    "p=predictions[testing]\n",
    "print(np.argmax(predictions[testing]))\n",
    "print(MI_Y_Test[testing])"
   ]
  }
 ],
 "metadata": {
  "accelerator": "GPU",
  "colab": {
   "collapsed_sections": [
    "BbMrcQiqVT1P",
    "CW8-ZmkjeHWz",
    "vJwX-qGXeiDu",
    "ZCY9-mdMe4RZ",
    "fmKXfKLOfiJ3",
    "F-UjHNB_fnHC"
   ],
   "gpuType": "T4",
   "provenance": []
  },
  "kernelspec": {
   "display_name": "Python 3 (ipykernel)",
   "language": "python",
   "name": "python3"
  },
  "language_info": {
   "codemirror_mode": {
    "name": "ipython",
    "version": 3
   },
   "file_extension": ".py",
   "mimetype": "text/x-python",
   "name": "python",
   "nbconvert_exporter": "python",
   "pygments_lexer": "ipython3",
   "version": "3.11.5"
  }
 },
 "nbformat": 4,
 "nbformat_minor": 1
}
